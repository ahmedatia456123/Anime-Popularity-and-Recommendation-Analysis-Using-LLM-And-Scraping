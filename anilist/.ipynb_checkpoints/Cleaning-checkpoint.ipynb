{
 "cells": [
  {
   "cell_type": "code",
   "execution_count": 30,
   "id": "5ae2dbb2-0887-45f7-8f50-d84f2c44d4b9",
   "metadata": {},
   "outputs": [],
   "source": [
    "import pandas as pd\n",
    "import json"
   ]
  },
  {
   "cell_type": "code",
   "execution_count": 42,
   "id": "cc59c72f-c1cf-424b-b2a4-cd6394683e68",
   "metadata": {},
   "outputs": [],
   "source": [
    "anlist = pd.read_csv('anlist_data.csv')"
   ]
  },
  {
   "cell_type": "code",
   "execution_count": 32,
   "id": "25e9d094-c788-4c3e-911b-8d0fab5303bd",
   "metadata": {},
   "outputs": [
    {
     "data": {
      "text/plain": [
       "{'edges': [{'node': {'coverImage': {'extraLarge': 'https://s4.anilist.co/file/anilistcdn/media/manga/cover/large/bx118686-bcOYTBwEbZnS.jpg',\n",
       "     'large': 'https://s4.anilist.co/file/anilistcdn/media/manga/cover/medium/bx118686-bcOYTBwEbZnS.jpg',\n",
       "     'medium': 'https://s4.anilist.co/file/anilistcdn/media/manga/cover/small/bx118686-bcOYTBwEbZnS.jpg'},\n",
       "    'id': 118686,\n",
       "    'idMal': 134765,\n",
       "    'title': {'romaji': 'Nakitai Watashi wa Neko wo Kaburu',\n",
       "     'english': None,\n",
       "     'native': '泣きたい私は猫をかぶる',\n",
       "     'userPreferred': 'Nakitai Watashi wa Neko wo Kaburu'},\n",
       "    'type': 'MANGA',\n",
       "    'format': 'MANGA',\n",
       "    'seasonYear': None},\n",
       "   'id': 42234,\n",
       "   'relationType': 'ADAPTATION'}]}"
      ]
     },
     "execution_count": 32,
     "metadata": {},
     "output_type": "execute_result"
    }
   ],
   "source": [
    "json.loads(anlist.iloc[0].data)['data']['Media']['relations']"
   ]
  },
  {
   "cell_type": "code",
   "execution_count": 33,
   "id": "c320a997-109c-4235-82ee-ebd7f641cc3d",
   "metadata": {
    "scrolled": true
   },
   "outputs": [
    {
     "data": {
      "text/html": [
       "<div>\n",
       "<style scoped>\n",
       "    .dataframe tbody tr th:only-of-type {\n",
       "        vertical-align: middle;\n",
       "    }\n",
       "\n",
       "    .dataframe tbody tr th {\n",
       "        vertical-align: top;\n",
       "    }\n",
       "\n",
       "    .dataframe thead th {\n",
       "        text-align: right;\n",
       "    }\n",
       "</style>\n",
       "<table border=\"1\" class=\"dataframe\">\n",
       "  <thead>\n",
       "    <tr style=\"text-align: right;\">\n",
       "      <th></th>\n",
       "      <th>mal_id</th>\n",
       "      <th>data</th>\n",
       "    </tr>\n",
       "  </thead>\n",
       "  <tbody>\n",
       "    <tr>\n",
       "      <th>0</th>\n",
       "      <td>41168</td>\n",
       "      <td>{\"data\": {\"Media\": {\"id\": 114963, \"idMal\": 411...</td>\n",
       "    </tr>\n",
       "    <tr>\n",
       "      <th>1</th>\n",
       "      <td>41619</td>\n",
       "      <td>{\"data\": {\"Media\": {\"id\": 117343, \"idMal\": 416...</td>\n",
       "    </tr>\n",
       "    <tr>\n",
       "      <th>2</th>\n",
       "      <td>39948</td>\n",
       "      <td>{\"data\": {\"Media\": {\"id\": 110028, \"idMal\": 399...</td>\n",
       "    </tr>\n",
       "    <tr>\n",
       "      <th>3</th>\n",
       "      <td>37510</td>\n",
       "      <td>{\"data\": {\"Media\": {\"id\": 101338, \"idMal\": 375...</td>\n",
       "    </tr>\n",
       "    <tr>\n",
       "      <th>4</th>\n",
       "      <td>42590</td>\n",
       "      <td>{\"data\": {\"Media\": {\"id\": 122348, \"idMal\": 425...</td>\n",
       "    </tr>\n",
       "  </tbody>\n",
       "</table>\n",
       "</div>"
      ],
      "text/plain": [
       "   mal_id                                               data\n",
       "0   41168  {\"data\": {\"Media\": {\"id\": 114963, \"idMal\": 411...\n",
       "1   41619  {\"data\": {\"Media\": {\"id\": 117343, \"idMal\": 416...\n",
       "2   39948  {\"data\": {\"Media\": {\"id\": 110028, \"idMal\": 399...\n",
       "3   37510  {\"data\": {\"Media\": {\"id\": 101338, \"idMal\": 375...\n",
       "4   42590  {\"data\": {\"Media\": {\"id\": 122348, \"idMal\": 425..."
      ]
     },
     "execution_count": 33,
     "metadata": {},
     "output_type": "execute_result"
    }
   ],
   "source": [
    "anlist.head()"
   ]
  },
  {
   "cell_type": "code",
   "execution_count": 36,
   "id": "cf5b645d-d59d-41bf-8217-1ad686864913",
   "metadata": {},
   "outputs": [
    {
     "data": {
      "text/html": [
       "<div>\n",
       "<style scoped>\n",
       "    .dataframe tbody tr th:only-of-type {\n",
       "        vertical-align: middle;\n",
       "    }\n",
       "\n",
       "    .dataframe tbody tr th {\n",
       "        vertical-align: top;\n",
       "    }\n",
       "\n",
       "    .dataframe thead th {\n",
       "        text-align: right;\n",
       "    }\n",
       "</style>\n",
       "<table border=\"1\" class=\"dataframe\">\n",
       "  <thead>\n",
       "    <tr style=\"text-align: right;\">\n",
       "      <th></th>\n",
       "      <th>mal_id</th>\n",
       "      <th>data</th>\n",
       "    </tr>\n",
       "  </thead>\n",
       "  <tbody>\n",
       "    <tr>\n",
       "      <th>843</th>\n",
       "      <td>37719</td>\n",
       "      <td>{'errors': [{'message': 'Not Found.', 'status'...</td>\n",
       "    </tr>\n",
       "    <tr>\n",
       "      <th>926</th>\n",
       "      <td>35262</td>\n",
       "      <td>{'errors': [{'message': 'Not Found.', 'status'...</td>\n",
       "    </tr>\n",
       "    <tr>\n",
       "      <th>967</th>\n",
       "      <td>38414</td>\n",
       "      <td>{'errors': [{'message': 'Not Found.', 'status'...</td>\n",
       "    </tr>\n",
       "    <tr>\n",
       "      <th>1048</th>\n",
       "      <td>43555</td>\n",
       "      <td>{'errors': [{'message': 'Not Found.', 'status'...</td>\n",
       "    </tr>\n",
       "    <tr>\n",
       "      <th>1077</th>\n",
       "      <td>53273</td>\n",
       "      <td>{'errors': [{'message': 'Not Found.', 'status'...</td>\n",
       "    </tr>\n",
       "    <tr>\n",
       "      <th>...</th>\n",
       "      <td>...</td>\n",
       "      <td>...</td>\n",
       "    </tr>\n",
       "    <tr>\n",
       "      <th>5900</th>\n",
       "      <td>52921</td>\n",
       "      <td>{'errors': [{'message': 'Not Found.', 'status'...</td>\n",
       "    </tr>\n",
       "    <tr>\n",
       "      <th>5901</th>\n",
       "      <td>10822</td>\n",
       "      <td>{'errors': [{'message': 'Not Found.', 'status'...</td>\n",
       "    </tr>\n",
       "    <tr>\n",
       "      <th>5924</th>\n",
       "      <td>56243</td>\n",
       "      <td>{'errors': [{'message': 'Not Found.', 'status'...</td>\n",
       "    </tr>\n",
       "    <tr>\n",
       "      <th>5937</th>\n",
       "      <td>53135</td>\n",
       "      <td>{'errors': [{'message': 'Not Found.', 'status'...</td>\n",
       "    </tr>\n",
       "    <tr>\n",
       "      <th>5938</th>\n",
       "      <td>41341</td>\n",
       "      <td>{'errors': [{'message': 'Not Found.', 'status'...</td>\n",
       "    </tr>\n",
       "  </tbody>\n",
       "</table>\n",
       "<p>132 rows × 2 columns</p>\n",
       "</div>"
      ],
      "text/plain": [
       "      mal_id                                               data\n",
       "843    37719  {'errors': [{'message': 'Not Found.', 'status'...\n",
       "926    35262  {'errors': [{'message': 'Not Found.', 'status'...\n",
       "967    38414  {'errors': [{'message': 'Not Found.', 'status'...\n",
       "1048   43555  {'errors': [{'message': 'Not Found.', 'status'...\n",
       "1077   53273  {'errors': [{'message': 'Not Found.', 'status'...\n",
       "...      ...                                                ...\n",
       "5900   52921  {'errors': [{'message': 'Not Found.', 'status'...\n",
       "5901   10822  {'errors': [{'message': 'Not Found.', 'status'...\n",
       "5924   56243  {'errors': [{'message': 'Not Found.', 'status'...\n",
       "5937   53135  {'errors': [{'message': 'Not Found.', 'status'...\n",
       "5938   41341  {'errors': [{'message': 'Not Found.', 'status'...\n",
       "\n",
       "[132 rows x 2 columns]"
      ]
     },
     "execution_count": 36,
     "metadata": {},
     "output_type": "execute_result"
    }
   ],
   "source": [
    "anlist[anlist.data.duplicated()]"
   ]
  },
  {
   "cell_type": "markdown",
   "id": "8261617d-e1ce-4b37-afa6-453e13a49d3b",
   "metadata": {},
   "source": [
    "Remove Data where anime not found"
   ]
  },
  {
   "cell_type": "code",
   "execution_count": 40,
   "id": "736920f4-66b3-42f3-8fba-c8c85af9ed8c",
   "metadata": {},
   "outputs": [
    {
     "data": {
      "text/plain": [
       "{'errors': [{'message': 'Not Found.',\n",
       "   'status': 404,\n",
       "   'locations': [{'line': 3, 'column': 3}]}],\n",
       " 'data': {'Media': None}}"
      ]
     },
     "execution_count": 40,
     "metadata": {},
     "output_type": "execute_result"
    }
   ],
   "source": [
    "anlist.iloc[5937].data"
   ]
  },
  {
   "cell_type": "code",
   "execution_count": 44,
   "id": "006969e4-ba46-4b9a-b7da-d8fd1c92b045",
   "metadata": {},
   "outputs": [],
   "source": [
    "def remove_errors(x):\n",
    "    x = json.loads(x)\n",
    "    if 'errors' in x:\n",
    "        return None\n",
    "    else:\n",
    "        return x\n",
    "\n"
   ]
  },
  {
   "cell_type": "code",
   "execution_count": 45,
   "id": "95c0bd18-57df-4123-bc33-95e9dadbbcc6",
   "metadata": {},
   "outputs": [],
   "source": [
    "anlist.data = anlist.data.apply(remove_errors)"
   ]
  },
  {
   "cell_type": "code",
   "execution_count": 46,
   "id": "58fd562b-aa85-44f4-8a64-f103a25270b3",
   "metadata": {},
   "outputs": [
    {
     "data": {
      "text/plain": [
       "mal_id      0\n",
       "data      133\n",
       "dtype: int64"
      ]
     },
     "execution_count": 46,
     "metadata": {},
     "output_type": "execute_result"
    }
   ],
   "source": [
    "anlist.isna().sum()"
   ]
  },
  {
   "cell_type": "code",
   "execution_count": 47,
   "id": "1d7c2a49-624c-42c2-9cb1-4d4083e5a63f",
   "metadata": {},
   "outputs": [],
   "source": [
    "anlist.dropna(subset='data',inplace=True)"
   ]
  },
  {
   "cell_type": "code",
   "execution_count": 49,
   "id": "287591aa-7489-40a2-9feb-ed9bf7410281",
   "metadata": {},
   "outputs": [],
   "source": [
    "anlist.to_csv('anlist_cleaned.csv',index=False)"
   ]
  },
  {
   "cell_type": "code",
   "execution_count": 18,
   "id": "febc3675-5e93-420c-81fc-ad8708279bfb",
   "metadata": {},
   "outputs": [
    {
     "data": {
      "text/plain": [
       "5946"
      ]
     },
     "execution_count": 18,
     "metadata": {},
     "output_type": "execute_result"
    }
   ],
   "source": [
    "len(anlist)"
   ]
  },
  {
   "cell_type": "code",
   "execution_count": null,
   "id": "671b7530-8456-4e15-bdd3-6c7b267c9694",
   "metadata": {},
   "outputs": [],
   "source": []
  }
 ],
 "metadata": {
  "kernelspec": {
   "display_name": "Python 3 (ipykernel)",
   "language": "python",
   "name": "python3"
  },
  "language_info": {
   "codemirror_mode": {
    "name": "ipython",
    "version": 3
   },
   "file_extension": ".py",
   "mimetype": "text/x-python",
   "name": "python",
   "nbconvert_exporter": "python",
   "pygments_lexer": "ipython3",
   "version": "3.11.7"
  }
 },
 "nbformat": 4,
 "nbformat_minor": 5
}
