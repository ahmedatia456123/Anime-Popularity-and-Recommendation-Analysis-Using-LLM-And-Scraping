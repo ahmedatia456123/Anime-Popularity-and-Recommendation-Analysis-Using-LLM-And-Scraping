{
 "cells": [
  {
   "cell_type": "code",
   "execution_count": 1,
   "id": "f1f3d9c7-1002-425a-b95e-bfae87479bb8",
   "metadata": {},
   "outputs": [],
   "source": [
    "import pandas as pd\n",
    "import ast\n",
    "pd.set_option('display.max_columns', None)"
   ]
  },
  {
   "cell_type": "code",
   "execution_count": 12,
   "id": "8c449db0-dc66-4e4e-af2e-09bd19f57979",
   "metadata": {},
   "outputs": [],
   "source": [
    "df= pd.read_csv('myanimelist_episode_processed.csv')"
   ]
  },
  {
   "cell_type": "code",
   "execution_count": 13,
   "id": "c3265438-c13f-4948-8364-248ccc781c96",
   "metadata": {},
   "outputs": [
    {
     "data": {
      "text/html": [
       "<div>\n",
       "<style scoped>\n",
       "    .dataframe tbody tr th:only-of-type {\n",
       "        vertical-align: middle;\n",
       "    }\n",
       "\n",
       "    .dataframe tbody tr th {\n",
       "        vertical-align: top;\n",
       "    }\n",
       "\n",
       "    .dataframe thead th {\n",
       "        text-align: right;\n",
       "    }\n",
       "</style>\n",
       "<table border=\"1\" class=\"dataframe\">\n",
       "  <thead>\n",
       "    <tr style=\"text-align: right;\">\n",
       "      <th></th>\n",
       "      <th>id</th>\n",
       "      <th>eps</th>\n",
       "    </tr>\n",
       "  </thead>\n",
       "  <tbody>\n",
       "    <tr>\n",
       "      <th>0</th>\n",
       "      <td>41619</td>\n",
       "      <td>[{'ep_num': '1', 'name': 'Without Ability', 's...</td>\n",
       "    </tr>\n",
       "    <tr>\n",
       "      <th>1</th>\n",
       "      <td>39948</td>\n",
       "      <td>[{'ep_num': '1', 'name': 'Enter Goryo', 'sup_n...</td>\n",
       "    </tr>\n",
       "    <tr>\n",
       "      <th>2</th>\n",
       "      <td>37510</td>\n",
       "      <td>[{'ep_num': '1', 'name': 'Ripped Apart: Someon...</td>\n",
       "    </tr>\n",
       "    <tr>\n",
       "      <th>3</th>\n",
       "      <td>42590</td>\n",
       "      <td>[{'ep_num': '1', 'name': 'Desolate', 'sup_name...</td>\n",
       "    </tr>\n",
       "    <tr>\n",
       "      <th>4</th>\n",
       "      <td>41265</td>\n",
       "      <td>[{'ep_num': '1', 'name': 'Dawn', 'sup_name': '...</td>\n",
       "    </tr>\n",
       "  </tbody>\n",
       "</table>\n",
       "</div>"
      ],
      "text/plain": [
       "      id                                                eps\n",
       "0  41619  [{'ep_num': '1', 'name': 'Without Ability', 's...\n",
       "1  39948  [{'ep_num': '1', 'name': 'Enter Goryo', 'sup_n...\n",
       "2  37510  [{'ep_num': '1', 'name': 'Ripped Apart: Someon...\n",
       "3  42590  [{'ep_num': '1', 'name': 'Desolate', 'sup_name...\n",
       "4  41265  [{'ep_num': '1', 'name': 'Dawn', 'sup_name': '..."
      ]
     },
     "execution_count": 13,
     "metadata": {},
     "output_type": "execute_result"
    }
   ],
   "source": [
    "df.head()"
   ]
  },
  {
   "cell_type": "code",
   "execution_count": 22,
   "id": "b43f77f8-ac3d-4d31-8469-25960c18f1a6",
   "metadata": {},
   "outputs": [
    {
     "data": {
      "text/plain": [
       "4024"
      ]
     },
     "execution_count": 22,
     "metadata": {},
     "output_type": "execute_result"
    }
   ],
   "source": [
    "len(df)"
   ]
  },
  {
   "cell_type": "code",
   "execution_count": 36,
   "id": "c837773a-64d7-4c04-b45b-b189be69bec7",
   "metadata": {},
   "outputs": [],
   "source": [
    "hold = []\n",
    "for i in eval(df.iloc[0].eps):\n",
    "    x = i['name'].replace('☆',' ').replace('\\xa0','')\n",
    "    hold.append(x)"
   ]
  },
  {
   "cell_type": "code",
   "execution_count": 37,
   "id": "3311e2af-1723-4ee7-b2f5-c6cc5a93d33c",
   "metadata": {},
   "outputs": [
    {
     "name": "stdout",
     "output_type": "stream",
     "text": [
      "translate this list into arabic in context of anime ['Without Ability', 'Traveling Back in Time', 'Talented vs. Talentless', 'Healing', 'Talented vs Talentless 2', 'Necromancer', 'Necromancer Part 2', 'Talented vs Talentless 3', 'Survival of the Fittest', 'The Invisible Blade', 'The Invisible Blade Part 2', 'The Invisible Blade Part 3', 'Revival'] please return in json list with Arabic only\n"
     ]
    }
   ],
   "source": [
    "print(f'translate this list into arabic in context of anime {hold} please return in json list with Arabic only')\n"
   ]
  },
  {
   "cell_type": "code",
   "execution_count": 9,
   "id": "84104e29-c6bb-45e5-acc5-dd6fb72486fb",
   "metadata": {},
   "outputs": [
    {
     "data": {
      "text/plain": [
       "92"
      ]
     },
     "execution_count": 9,
     "metadata": {},
     "output_type": "execute_result"
    }
   ],
   "source": [
    "len(hold)"
   ]
  },
  {
   "cell_type": "code",
   "execution_count": null,
   "id": "8c1aa6e5-8ccc-4642-9737-a76e2415bc8c",
   "metadata": {},
   "outputs": [],
   "source": []
  }
 ],
 "metadata": {
  "kernelspec": {
   "display_name": "Python 3 (ipykernel)",
   "language": "python",
   "name": "python3"
  },
  "language_info": {
   "codemirror_mode": {
    "name": "ipython",
    "version": 3
   },
   "file_extension": ".py",
   "mimetype": "text/x-python",
   "name": "python",
   "nbconvert_exporter": "python",
   "pygments_lexer": "ipython3",
   "version": "3.11.7"
  }
 },
 "nbformat": 4,
 "nbformat_minor": 5
}
